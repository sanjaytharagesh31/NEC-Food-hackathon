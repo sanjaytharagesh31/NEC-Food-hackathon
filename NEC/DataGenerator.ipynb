{
 "cells": [
  {
   "cell_type": "code",
   "execution_count": 6,
   "metadata": {},
   "outputs": [],
   "source": [
    "import numpy as np\n",
    "import pandas as pd"
   ]
  },
  {
   "cell_type": "code",
   "execution_count": 30,
   "metadata": {},
   "outputs": [],
   "source": [
    "temp = np.linspace(40, 54, 100)\n",
    "df = pd.DataFrame(temp)\n",
    "df.to_csv(\"temp_ideal.csv\")"
   ]
  },
  {
   "cell_type": "code",
   "execution_count": 11,
   "metadata": {},
   "outputs": [],
   "source": [
    "humid = np.linspace(90, 95, 100)\n",
    "df  = pd.DataFrame(humid)\n",
    "df.to_csv(\"humid_ideal.csv\")"
   ]
  },
  {
   "cell_type": "code",
   "execution_count": 12,
   "metadata": {},
   "outputs": [],
   "source": [
    "eth = np.linspace(0, 1, 100)\n",
    "df  = pd.DataFrame(eth)\n",
    "df.to_csv(\"ethlene_ideal.csv\")"
   ]
  },
  {
   "cell_type": "code",
   "execution_count": 13,
   "metadata": {},
   "outputs": [],
   "source": [
    "co2 = np.linspace(0, 100000, 100)\n",
    "df  = pd.DataFrame(co2)\n",
    "df.to_csv(\"co2_ideal.csv\")"
   ]
  },
  {
   "cell_type": "code",
   "execution_count": 14,
   "metadata": {},
   "outputs": [],
   "source": [
    "o2 = np.linspace(50000, 80000, 100)\n",
    "df  = pd.DataFrame(o2)\n",
    "df.to_csv(\"o2_ideal.csv\")"
   ]
  },
  {
   "cell_type": "code",
   "execution_count": 18,
   "metadata": {},
   "outputs": [],
   "source": [
    "shelf = np.linspace(6, 7, 5)\n",
    "df  = pd.DataFrame(shelf)\n",
    "df.to_csv(\"shelf_ideal.csv\")"
   ]
  },
  {
   "cell_type": "code",
   "execution_count": 29,
   "metadata": {},
   "outputs": [],
   "source": [
    "#middle layer (4 to 6 days)\n",
    "\n",
    "dff = pd.DataFrame(columns=[\"temp\", \"humid\", \"eth\", \"co2\", \"o2\", \"shelf\"])\n",
    "#temp = 52 to 56\n",
    "#humid = 80 to 90\n",
    "#eth = 1 to 5\n",
    "#co2 = 100000 to 150000\n",
    "#o2 = 80000 to 100000\n",
    "#shelf = 4 to 6\n",
    "\n",
    "temp = np.linspace(52, 56, 400)\n",
    "humid = np.linspace(80, 90, 400)\n",
    "eth = np.linspace(1, 5, 400)\n",
    "co2 = np.linspace(100000, 1500000, 400)\n",
    "o2 = np.linspace(80000, 990000, 400)\n",
    "shelf = np.linspace(4, 6, 400)\n",
    "\n",
    "dff['temp'] = pd.Series(temp)\n",
    "dff['humid'] = pd.Series(humid)\n",
    "dff['eth'] = pd.Series(eth)\n",
    "dff['co2'] = pd.Series(co2)\n",
    "dff['o2'] = pd.Series(o2)\n",
    "dff['shelf'] = pd.Series(shelf)\n",
    "\n",
    "dff.to_csv('middle_data.csv')"
   ]
  },
  {
   "cell_type": "code",
   "execution_count": 28,
   "metadata": {},
   "outputs": [],
   "source": [
    "#Worst layer (1 to 4 days)\n",
    "\n",
    "dfff = pd.DataFrame(columns=[\"temp\", \"humid\", \"eth\", \"co2\", \"o2\", \"shelf\"])\n",
    "#temp = 54 to 60\n",
    "#humid = 80 to 90\n",
    "#eth = 5 to 10\n",
    "#co2 = 1000000 to 9999999\n",
    "#o2 = 100000 to 1000000\n",
    "#shelf = 1 to 4\n",
    "\n",
    "temp = np.linspace(54, 60, 100)\n",
    "humid = np.linspace(80, 90, 100)\n",
    "eth = np.linspace(5, 10, 100)\n",
    "co2 = np.linspace(1000000, 9999999, 100)\n",
    "o2 = np.linspace(100000, 1000000, 100)\n",
    "shelf = np.linspace(1, 4, 100)\n",
    "\n",
    "dfff['temp'] = pd.Series(temp)\n",
    "dfff['humid'] = pd.Series(humid)\n",
    "dfff['eth'] = pd.Series(eth)\n",
    "dfff['co2'] = pd.Series(co2)\n",
    "dfff['o2'] = pd.Series(o2)\n",
    "dfff['shelf'] = pd.Series(shelf)\n",
    "\n",
    "dfff.to_csv('worst_data.csv')"
   ]
  },
  {
   "cell_type": "code",
   "execution_count": 1,
   "metadata": {},
   "outputs": [
    {
     "ename": "NameError",
     "evalue": "name 'np' is not defined",
     "output_type": "error",
     "traceback": [
      "\u001b[1;31m---------------------------------------------------------------------------\u001b[0m",
      "\u001b[1;31mNameError\u001b[0m                                 Traceback (most recent call last)",
      "\u001b[1;32m<ipython-input-1-3192337400d6>\u001b[0m in \u001b[0;36m<module>\u001b[1;34m\u001b[0m\n\u001b[1;32m----> 1\u001b[1;33m \u001b[0mtemp\u001b[0m \u001b[1;33m=\u001b[0m \u001b[0mnp\u001b[0m\u001b[1;33m.\u001b[0m\u001b[0mlinspace\u001b[0m\u001b[1;33m(\u001b[0m\u001b[1;36m40\u001b[0m\u001b[1;33m,\u001b[0m \u001b[1;36m54\u001b[0m\u001b[1;33m,\u001b[0m \u001b[1;36m100\u001b[0m\u001b[1;33m)\u001b[0m\u001b[1;33m\u001b[0m\u001b[1;33m\u001b[0m\u001b[0m\n\u001b[0m\u001b[0;32m      2\u001b[0m \u001b[0mdf\u001b[0m \u001b[1;33m=\u001b[0m \u001b[0mpd\u001b[0m\u001b[1;33m.\u001b[0m\u001b[0mDataFrame\u001b[0m\u001b[1;33m(\u001b[0m\u001b[0mtemp\u001b[0m\u001b[1;33m)\u001b[0m\u001b[1;33m\u001b[0m\u001b[1;33m\u001b[0m\u001b[0m\n\u001b[0;32m      3\u001b[0m \u001b[0mdf\u001b[0m\u001b[1;33m.\u001b[0m\u001b[0mto_csv\u001b[0m\u001b[1;33m(\u001b[0m\u001b[1;34m\"files\\\\xxx.csv\"\u001b[0m\u001b[1;33m)\u001b[0m\u001b[1;33m\u001b[0m\u001b[1;33m\u001b[0m\u001b[0m\n",
      "\u001b[1;31mNameError\u001b[0m: name 'np' is not defined"
     ]
    }
   ],
   "source": [
    "temp = np.linspace(40, 54, 100)\n",
    "df = pd.DataFrame(temp)\n",
    "df.to_csv(\"files\\\\xxx.csv\")"
   ]
  },
  {
   "cell_type": "code",
   "execution_count": null,
   "metadata": {},
   "outputs": [],
   "source": []
  }
 ],
 "metadata": {
  "kernelspec": {
   "display_name": "Python 3",
   "language": "python",
   "name": "python3"
  },
  "language_info": {
   "codemirror_mode": {
    "name": "ipython",
    "version": 3
   },
   "file_extension": ".py",
   "mimetype": "text/x-python",
   "name": "python",
   "nbconvert_exporter": "python",
   "pygments_lexer": "ipython3",
   "version": "3.7.5"
  }
 },
 "nbformat": 4,
 "nbformat_minor": 2
}
